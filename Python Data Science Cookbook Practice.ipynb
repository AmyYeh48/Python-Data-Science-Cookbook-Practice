{
 "cells": [
  {
   "cell_type": "markdown",
   "metadata": {},
   "source": [
    "# Chapter 1. Python for Data Science"
   ]
  },
  {
   "cell_type": "markdown",
   "metadata": {},
   "source": [
    "### 1.1 Using dictionary objects"
   ]
  },
  {
   "cell_type": "code",
   "execution_count": 8,
   "metadata": {},
   "outputs": [
    {
     "name": "stdout",
     "output_type": "stream",
     "text": [
      "{\"Life's\": 1, 'too': 1, 'short': 1, 'to': 1, 'even': 1, 'care': 1, 'at': 2, 'all': 1, 'oh': 8, \"I'm\": 1, 'losing': 3, 'my': 2, 'mind': 2, 'control': 1, 'These': 1, 'fishes': 1, 'in': 1, 'the': 1, 'sea': 1, \"they're\": 1, 'staring': 1, 'me': 1, 'A': 1, 'wet': 1, 'world': 1, 'aches': 1, 'for': 1, 'a': 2, 'beat': 1, 'of': 1, 'drum,': 1}\n"
     ]
    }
   ],
   "source": [
    "# 1.Load a variable with sentences (lyrics from \"Cough Syrup\" song by Young The Giant)\n",
    "sentence = '''Life's too short to even care at all oh \n",
    "I'm losing my mind losing my mind losing control\n",
    "These fishes in the sea they're staring at me oh oh oh oh oh oh\n",
    "A wet world aches for a beat of a drum, oh'''\n",
    "\n",
    "# 2.Initialize a dictionary object\n",
    "word_dict = {}\n",
    "# 3.Perform the word count\n",
    "for word in sentence.split():\n",
    "#     if word not in word_dict:\n",
    "#         word_dict[word] =1\n",
    "#     else:\n",
    "#         word_dict[word]+=1\n",
    "    word_dict.setdefault(word,0)\n",
    "    word_dict[word]+=1\n",
    "# 4.Print the output\n",
    "print (word_dict)"
   ]
  },
  {
   "cell_type": "code",
   "execution_count": 11,
   "metadata": {},
   "outputs": [
    {
     "name": "stdout",
     "output_type": "stream",
     "text": [
      "defaultdict(<class 'int'>, {\"Life's\": 1, 'too': 1, 'short': 1, 'to': 1, 'even': 1, 'care': 1, 'at': 2, 'all': 1, 'oh': 8, \"I'm\": 1, 'losing': 3, 'my': 2, 'mind': 2, 'control': 1, 'These': 1, 'fishes': 1, 'in': 1, 'the': 1, 'sea': 1, \"they're\": 1, 'staring': 1, 'me': 1, 'A': 1, 'wet': 1, 'world': 1, 'aches': 1, 'for': 1, 'a': 2, 'beat': 1, 'of': 1, 'drum,': 1})\n"
     ]
    }
   ],
   "source": [
    "# Using defaultdict to handle the initialization\n",
    "from collections import defaultdict\n",
    "sentence = '''Life's too short to even care at all oh \n",
    "I'm losing my mind losing my mind losing control\n",
    "These fishes in the sea they're staring at me oh oh oh oh oh oh\n",
    "A wet world aches for a beat of a drum, oh'''\n",
    "worddict = defaultdict(int)\n",
    "for word in sentence.split():\n",
    "    worddict[word]+=1\n",
    "print (worddict)"
   ]
  },
  {
   "cell_type": "code",
   "execution_count": 14,
   "metadata": {},
   "outputs": [
    {
     "name": "stdout",
     "output_type": "stream",
     "text": [
      "Counter({'oh': 8, 'losing': 3, 'at': 2, 'my': 2, 'mind': 2, 'a': 2, \"Life's\": 1, 'too': 1, 'short': 1, 'to': 1, 'even': 1, 'care': 1, 'all': 1, \"I'm\": 1, 'control': 1, 'These': 1, 'fishes': 1, 'in': 1, 'the': 1, 'sea': 1, \"they're\": 1, 'staring': 1, 'me': 1, 'A': 1, 'wet': 1, 'world': 1, 'aches': 1, 'for': 1, 'beat': 1, 'of': 1, 'drum,': 1})\n"
     ]
    }
   ],
   "source": [
    "# Counter is another option for counting words' frequency\n",
    "from collections import Counter\n",
    "sentence = '''Life's too short to even care at all oh \n",
    "I'm losing my mind losing my mind losing control\n",
    "These fishes in the sea they're staring at me oh oh oh oh oh oh\n",
    "A wet world aches for a beat of a drum, oh'''\n",
    "word_count = Counter(sentence.split())\n",
    "print (word_count)"
   ]
  },
  {
   "cell_type": "code",
   "execution_count": 21,
   "metadata": {},
   "outputs": [
    {
     "name": "stdout",
     "output_type": "stream",
     "text": [
      "defaultdict(<function <lambda> at 0x107f08950>, {'÷': defaultdict(<class 'int'>, {'Shape of you': 2017}), 'X': defaultdict(<class 'int'>, {'Thinking Out Loud': 2014})})\n"
     ]
    }
   ],
   "source": [
    "# dictionary of dictionaries\n",
    "from collections import defaultdict\n",
    "Ed = defaultdict(lambda:defaultdict(int))\n",
    "Ed[\"÷\"][\"Shape of you\"] = 2017\n",
    "Ed[\"X\"][\"Thinking Out Loud\"] = 2014\n",
    "print (Ed)"
   ]
  },
  {
   "cell_type": "markdown",
   "metadata": {},
   "source": [
    "### 1.2 Working with tuples"
   ]
  },
  {
   "cell_type": "code",
   "execution_count": 32,
   "metadata": {},
   "outputs": [
    {
     "name": "stdout",
     "output_type": "stream",
     "text": [
      "1\n",
      "c\n",
      "Cannot change value of tuple by index\n",
      "(1, 2, 'a', 1, 2, 'c')\n",
      "(2, 3, 4, 5, 6, 7, 8, 9, 10)\n",
      "(2, 3)\n",
      "(2, 4, 6)\n",
      "(10, 9, 8, 7, 6, 5, 4, 3, 2, 1)\n",
      "1 10\n",
      "Element 1 is available in tuple a\n"
     ]
    }
   ],
   "source": [
    "# 1.Ways of creating a tuple\n",
    "a_tuple = (1,2,'a')\n",
    "b_tuple =1,2,'c'\n",
    "\n",
    "# 2.Accessing elements of a tuple through index\n",
    "print (b_tuple[0])\n",
    "print (b_tuple[-1])\n",
    "\n",
    "# 3. We can't change the value of an item in a tuple (immutable)\n",
    "try:\n",
    "    b_tuple[0] = 20\n",
    "except:\n",
    "    print (\"Cannot change value of tuple by index\")\n",
    "\n",
    "# 4. Elements of a tuple can be mutable objects\n",
    "c_tuple =(1,2,[10,20,30])\n",
    "c_tuple[2][0] = 100\n",
    "\n",
    "# 5.Tuples cannot be extended like list but can be concatenated.\n",
    "print (a_tuple + b_tuple)\n",
    "\n",
    "# 6 Slicing of tuples\n",
    "a =(1,2,3,4,5,6,7,8,9,10)\n",
    "# Get elements from indext 1 to the end of tuple\n",
    "print (a[1:])\n",
    "# Get elements from indext 1 to 3(excluded)\n",
    "print (a[1:3])\n",
    "# From index one to 6(excluded) two steps once\n",
    "print (a[1:6:2])\n",
    "# Count backward\n",
    "print (a[::-1])\n",
    "\n",
    "# 7.Tuple min max\n",
    "print (min(a),max(a))\n",
    "\n",
    "# 8.in and not in\n",
    "if 1 in a:\n",
    "    print (\"Element 1 is available in tuple a\")\n",
    "else:\n",
    "    print (\"Element 1 is available in tuple a\")"
   ]
  },
  {
   "cell_type": "code",
   "execution_count": 44,
   "metadata": {},
   "outputs": [
    {
     "name": "stdout",
     "output_type": "stream",
     "text": [
      "Manhattan distance between vectors = 1\n",
      "<class '__main__.Dimension'>\n"
     ]
    }
   ],
   "source": [
    "# Using namedtuple for better program readability\n",
    "from collections import namedtuple\n",
    "vector = namedtuple(\"Dimension\",['x','y','z'])\n",
    "vec_1 = vector(1,1,1)\n",
    "vec_2 = vector(1,0,1)\n",
    "manhattan_distance = abs(vec_1.x - vec_2.x) + abs(vec_1.y - vec_2.y) \\\n",
    "+ abs(vec_1.z - vec_2.z)\n",
    "print (\"Manhattan distance between vectors = %d\"%(manhattan_distance))\n",
    "print (type(vec_1))"
   ]
  },
  {
   "cell_type": "markdown",
   "metadata": {},
   "source": [
    "### 1.3 Using sets with Jaccard Similarity\n",
    "The Jaccard coefficient measures similarity between finite sample sets, and is defined as the size of the intersection divided by the size of the union of the sample sets."
   ]
  },
  {
   "cell_type": "code",
   "execution_count": 53,
   "metadata": {},
   "outputs": [
    {
     "name": "stdout",
     "output_type": "stream",
     "text": [
      "No words in sent_1 = 10\n",
      "Sentence 1 words = {'of', 'wet', 'for', 'beat', 'drum,', 'oh', 'aches', 'world', 'a', 'A'}\n",
      "No words in sent_2 = 11\n",
      "Sentence 2 words = {'A', 'of', 'for', 'the', 'oh', 'aches', 'splash', 'world', 'sun', 'a', 'dark'}\n",
      "No words in common = 7\n",
      "Common words = {'of', 'A', 'for', 'oh', 'world', 'a', 'aches'}\n",
      "Total unique words = 14\n",
      "Unique words= {'of', 'wet', 'for', 'oh', 'world', 'sun', 'a', 'aches', 'A', 'beat', 'the', 'drum,', 'splash', 'dark'}\n",
      "Similarity = No words in common/No unique words, 7/14 = 0.50\n"
     ]
    }
   ],
   "source": [
    "# 1.Initialize two sentences.\n",
    "st_1 = \"A wet world aches for a beat of a drum, oh\"\n",
    "st_2 = \"A dark world aches for a splash of the sun oh oh\"\n",
    "\n",
    "# 2.Create set of words from strings\n",
    "st_1_wrds = set(st_1.split())\n",
    "st_2_wrds = set(st_2.split())\n",
    "\n",
    "# 3.Find out the number of unique words in each set, vocabulary size.\n",
    "no_wrds_st_1 = len(st_1_wrds)\n",
    "no_wrds_st_2 = len(st_2_wrds)\n",
    "\n",
    "# 4.Find out the list of common words between the two sets.\n",
    "cmn_wrds = st_1_wrds.intersection(st_2_wrds)\n",
    "no_cmn_wrds = len(cmn_wrds)\n",
    "\n",
    "# 5.Get a list of unique words between the two sets.\n",
    "# Also find out the count of unique words.\n",
    "unq_wrds = st_1_wrds.union(st_2_wrds)\n",
    "no_unq_wrds = len(st_1_wrds.union(st_2_wrds))\n",
    "\n",
    "# 6.Calculate Jaccard similarity\n",
    "similarity = no_cmn_wrds / (1.0 * no_unq_wrds)\n",
    "\n",
    "# 7.Let us now print to grasp our output.\n",
    "print (\"No words in sent_1 = %d\"%(no_wrds_st_1))\n",
    "print (\"Sentence 1 words =\", st_1_wrds)\n",
    "print (\"No words in sent_2 = %d\"%(no_wrds_st_2))\n",
    "print (\"Sentence 2 words =\", st_2_wrds)\n",
    "print (\"No words in common = %d\"%(no_cmn_wrds))\n",
    "print (\"Common words =\", cmn_wrds)\n",
    "print (\"Total unique words = %d\"%(no_unq_wrds))\n",
    "print (\"Unique words=\",unq_wrds)\n",
    "print (\"Similarity = No words in common/No unique words, %d/%d = %.2f\"%\n",
    "(no_cmn_wrds,no_unq_wrds,similarity))"
   ]
  },
  {
   "cell_type": "code",
   "execution_count": 54,
   "metadata": {},
   "outputs": [
    {
     "name": "stdout",
     "output_type": "stream",
     "text": [
      "[1, 1, 1, 1, 1, 0, 1, 1, 1, 1, 0, 1, 0, 0]\n",
      "[1, 0, 1, 1, 1, 1, 1, 1, 1, 0, 1, 0, 1, 1]\n",
      "0.5\n"
     ]
    }
   ],
   "source": [
    "# Using scikit-learn to do the trick\n",
    "from sklearn.metrics import jaccard_similarity_score\n",
    "# 1.Initialize two sentences.\n",
    "st_1 = \"A wet world aches for a beat of a drum, oh\"\n",
    "st_2 = \"A dark world aches for a splash of the sun oh oh\"\n",
    "# 2.Create set of words from strings\n",
    "st_1_wrds = set(st_1.split())\n",
    "st_2_wrds = set(st_2.split())\n",
    "unq_wrds = st_1_wrds.union(st_2_wrds)\n",
    "a =[ 1 if w in st_1_wrds else 0 for w in unq_wrds ]\n",
    "b =[ 1 if w in st_2_wrds else 0 for w in unq_wrds]\n",
    "print (a)\n",
    "print (b)\n",
    "print (jaccard_similarity_score(a,b))"
   ]
  },
  {
   "cell_type": "markdown",
   "metadata": {},
   "source": [
    "### 1.4 Writing a list"
   ]
  },
  {
   "cell_type": "code",
   "execution_count": 64,
   "metadata": {},
   "outputs": [
    {
     "name": "stdout",
     "output_type": "stream",
     "text": [
      "range(1, 10)\n",
      "['a', 'b', 'c']\n",
      "1\n",
      "9\n",
      "range(2, 4)\n",
      "range(2, 10)\n",
      "range(9, 10)\n",
      "range(1, 9)\n",
      "[1, 2, 3, 4]\n",
      "1 2\n",
      "Element 1 is available in list a\n",
      "[1, 2, 3, 4, 5, 6, 7, 8, 9]\n",
      "[1, 2, 3, 4, 5, 6, 7, 8, 9, 10]\n",
      "3\n",
      "2\n",
      "1\n",
      "1\n",
      "2\n",
      "3\n",
      "[12, 5, 3, 7, 18, 1, 15, 8, 14, 17, 13, 6, 10, 19, 9, 11, 2, 16, 4]\n",
      "[1, 2, 3, 4, 5, 6, 7, 8, 9, 10, 11, 12, 13, 14, 15, 16, 17, 18, 19]\n",
      "[19, 18, 17, 16, 15, 14, 13, 12, 11, 10, 9, 8, 7, 6, 5, 4, 3, 2, 1]\n",
      "[100, 101, 102, 103, 104, 105, 106, 107, 108, 109, 19, 18, 17, 16, 15, 14, 13, 12, 11, 10, 9, 8, 7, 6, 5, 4, 3, 2, 1]\n"
     ]
    }
   ],
   "source": [
    "# 1.Let us look at a quick example of list creation.\n",
    "a = range(1,10)\n",
    "print (a)\n",
    "b = [\"a\",\"b\",\"c\"]\n",
    "print (b)\n",
    "\n",
    "# 2.List can be accessed through indexing. Indexing starts at 0.\n",
    "print (a[0])\n",
    "\n",
    "# 3.With negative indexing the elements of a list are accessed from backwards.\n",
    "print (a[-1])\n",
    "\n",
    "# 4.Slicing is accessing a subset of list by providing two indices.\n",
    "print (a[1:3]) # [2, 3]\n",
    "print (a[1:]) # [2, 3, 4, 5, 6, 7, 8, 9]\n",
    "print (a[-1:]) # [9]\n",
    "print (a[:-1]) # [1, 2, 3, 4, 5, 6, 7, 8]\n",
    "\n",
    "#5.List concatenation\n",
    "a = [1,2]\n",
    "b = [3,4]\n",
    "print (a + b) # [1, 2, 3, 4]\n",
    "\n",
    "# 6. List min max\n",
    "print (min(a),max(a))\n",
    "\n",
    "# 7. in and not in\n",
    "if 1 in a:\n",
    "    print (\"Element 1 is available in list a\")\n",
    "else:\n",
    "    print (\"Element 1 is available in tuple a\")\n",
    "\n",
    "# 8. Appending and extending list\n",
    "a = [i for i in range(1,10)]\n",
    "print (a)\n",
    "a.append(10)\n",
    "print (a)\n",
    "\n",
    "# 9.List as a stack (LIFO)\n",
    "a_stack = []\n",
    "a_stack.append(1)\n",
    "a_stack.append(2)\n",
    "a_stack.append(3)\n",
    "print (a_stack.pop())\n",
    "print (a_stack.pop())\n",
    "print (a_stack.pop())\n",
    "\n",
    "# 10.List as queue (FIFO)\n",
    "a_queue = []\n",
    "a_queue.append(1)\n",
    "a_queue.append(2)\n",
    "a_queue.append(3)\n",
    "print (a_queue.pop(0))\n",
    "print (a_queue.pop(0))\n",
    "print (a_queue.pop(0))\n",
    "\n",
    "# 11. List sort and reverse\n",
    "from random import shuffle\n",
    "a = [i for i in range(1,20)]\n",
    "shuffle(a)\n",
    "print (a)\n",
    "a.sort()\n",
    "print (a)\n",
    "a.reverse()\n",
    "print (a)\n",
    "\n",
    "# 12. List extend \n",
    "b = [j for j in range(100,110)]\n",
    "b.extend(a)\n",
    "print (b)"
   ]
  },
  {
   "cell_type": "code",
   "execution_count": 77,
   "metadata": {},
   "outputs": [
    {
     "name": "stdout",
     "output_type": "stream",
     "text": [
      "deque(['h', 'e', 'l', 'l', 'o'])\n",
      "deque(['h', 'e', 'l', 'l', 'o', 1])\n",
      "deque([2, 'h', 'e', 'l', 'l', 'o', 1])\n",
      "1\n",
      "2\n",
      "deque(['o', 'l', 'l', 'e', 'h'])\n",
      "deque(['e', 'h', 'o', 'l', 'l'])\n",
      "deque(['o', 'l', 'l', 'e', 'h'])\n"
     ]
    }
   ],
   "source": [
    "# Play with deque (double-ended queue)\n",
    "from collections import deque\n",
    "d = deque('hello')\n",
    "print (d)\n",
    "d.append(1)\n",
    "print (d)\n",
    "d.appendleft(2)\n",
    "print (d)\n",
    "print (d.pop())\n",
    "print (d.popleft())\n",
    "d.reverse()\n",
    "print (d)\n",
    "# Rotate the deque n steps to the right. If n is negative, \n",
    "# rotate to the left. Rotating one step to the right is equivalent to: d.appendleft(d.pop()).\n",
    "d.rotate(2)\n",
    "print (d)\n",
    "d.rotate(-2)\n",
    "print (d)"
   ]
  },
  {
   "cell_type": "markdown",
   "metadata": {},
   "source": [
    "### 1.5 Creating a list from another list - list comprehension"
   ]
  },
  {
   "cell_type": "code",
   "execution_count": 79,
   "metadata": {},
   "outputs": [
    {
     "name": "stdout",
     "output_type": "stream",
     "text": [
      "[1, 4, 9, 16]\n"
     ]
    }
   ],
   "source": [
    "# 1. Let us define a simple list with some positive and negative numbers.\n",
    "a = [1,2,-1,-2,3,4,-3,-4]\n",
    "# 2. Now let us write our list comprehension.\n",
    "# pow() a power function takes two input and\n",
    "# its output is the first variable raised to the power of the second.\n",
    "b = [pow(x,2) for x in a if x < 0]\n",
    "# 3. Finally let us see the output, i.e. the newly created list b.\n",
    "print (b)"
   ]
  },
  {
   "cell_type": "code",
   "execution_count": 81,
   "metadata": {},
   "outputs": [
    {
     "name": "stdout",
     "output_type": "stream",
     "text": [
      "{'a': 1, 'b': 4, 'c': 9}\n"
     ]
    }
   ],
   "source": [
    "# Using dictionary\n",
    "a = {'a':1,'b':2,'c':3}\n",
    "b = {x:pow(y,2) for x,y in a.items()}\n",
    "print (b)"
   ]
  },
  {
   "cell_type": "code",
   "execution_count": 86,
   "metadata": {},
   "outputs": [
    {
     "name": "stdout",
     "output_type": "stream",
     "text": [
      "(1, 4, 1, 4, 'd', 9, 16, 9, 'a', 1.23)\n"
     ]
    }
   ],
   "source": [
    "def process(x):\n",
    "    if isinstance(x,str):\n",
    "        return x.lower()\n",
    "    elif isinstance(x,int):\n",
    "        return x*x\n",
    "    else:\n",
    "        return x\n",
    "a = (1,2,-1,-2,'D',3,4,-3,'A',1.23)\n",
    "b = tuple(process(x) for x in a )\n",
    "print (b)"
   ]
  },
  {
   "cell_type": "markdown",
   "metadata": {},
   "source": [
    "### Using iterators"
   ]
  },
  {
   "cell_type": "code",
   "execution_count": 108,
   "metadata": {},
   "outputs": [
    {
     "name": "stdout",
     "output_type": "stream",
     "text": [
      "1\n",
      "2\n",
      "3\n",
      "12\n",
      "34\n"
     ]
    }
   ],
   "source": [
    "# 1. Let us write a simple iterator.\n",
    "class SimpleCounter(object):\n",
    "    def __init__(self, start, end):\n",
    "        self.current = start\n",
    "        self.end = end\n",
    "    def __iter__(self):\n",
    "        #'Returns itself as an iterator object'\n",
    "        return self\n",
    "    def next(self):\n",
    "        #'Returns the next value till current is lower than end'\n",
    "        if self.current > self.end:\n",
    "            raise StopIteration\n",
    "        else:\n",
    "            self.current += 1\n",
    "            return self.current - 1\n",
    "# 2. Now let us try to access the iterator\n",
    "c = SimpleCounter(1,3)\n",
    "print (c.next())\n",
    "print (c.next())\n",
    "print (c.next())\n",
    "#print (c.next())\n",
    "\n",
    "# 3. Another way to access\n",
    "test = iter([12,34,56])\n",
    "print (next(test))\n",
    "print (next(test))"
   ]
  },
  {
   "cell_type": "code",
   "execution_count": 109,
   "metadata": {},
   "outputs": [],
   "source": [
    "def cycle(iterable):\n",
    "    # cycle('ABCD') --> A B C D A B C D A B C D ...\n",
    "    saved = []\n",
    "    for element in iterable:\n",
    "        yield element\n",
    "        saved.append(element)\n",
    "    while saved:\n",
    "        for element in saved:\n",
    "              yield element"
   ]
  },
  {
   "cell_type": "code",
   "execution_count": 113,
   "metadata": {},
   "outputs": [
    {
     "name": "stdout",
     "output_type": "stream",
     "text": [
      "A\n",
      "B\n",
      "C\n",
      "D\n",
      "A\n",
      "B\n",
      "C\n",
      "D\n",
      "A\n",
      "B\n",
      "C\n",
      "D\n",
      "A\n",
      "B\n",
      "C\n",
      "D\n",
      "A\n",
      "B\n",
      "C\n",
      "D\n"
     ]
    }
   ],
   "source": [
    "import itertools\n",
    "count = 0\n",
    "for c in itertools.cycle('ABCD'):\n",
    "    if count < 20:\n",
    "        print (c)\n",
    "        count+=1\n",
    "    else:\n",
    "        break"
   ]
  },
  {
   "cell_type": "code",
   "execution_count": null,
   "metadata": {},
   "outputs": [],
   "source": []
  }
 ],
 "metadata": {
  "kernelspec": {
   "display_name": "Python 3",
   "language": "python",
   "name": "python3"
  },
  "language_info": {
   "codemirror_mode": {
    "name": "ipython",
    "version": 3
   },
   "file_extension": ".py",
   "mimetype": "text/x-python",
   "name": "python",
   "nbconvert_exporter": "python",
   "pygments_lexer": "ipython3",
   "version": "3.6.1"
  }
 },
 "nbformat": 4,
 "nbformat_minor": 2
}
